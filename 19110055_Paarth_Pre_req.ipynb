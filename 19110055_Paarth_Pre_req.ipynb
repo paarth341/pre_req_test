{
  "nbformat": 4,
  "nbformat_minor": 0,
  "metadata": {
    "colab": {
      "provenance": []
    },
    "kernelspec": {
      "name": "python3",
      "display_name": "Python 3"
    },
    "language_info": {
      "name": "python"
    }
  },
  "cells": [
    {
      "cell_type": "code",
      "execution_count": 2,
      "metadata": {
        "id": "1sbNoSiF7czD"
      },
      "outputs": [],
      "source": [
        "import time\n",
        "import statistics\n"
      ]
    },
    {
      "cell_type": "code",
      "source": [
        "import numpy as np"
      ],
      "metadata": {
        "id": "ApULfP3NMu6w"
      },
      "execution_count": 3,
      "outputs": []
    },
    {
      "cell_type": "code",
      "source": [
        "import jax"
      ],
      "metadata": {
        "id": "u6w36tsP6hjm"
      },
      "execution_count": 4,
      "outputs": []
    },
    {
      "cell_type": "code",
      "source": [
        "from jax import jvp, grad"
      ],
      "metadata": {
        "id": "lorealtdAnFk"
      },
      "execution_count": 5,
      "outputs": []
    },
    {
      "cell_type": "code",
      "source": [
        "from sympy import * \n"
      ],
      "metadata": {
        "id": "u3skS3O2EMfN"
      },
      "execution_count": 6,
      "outputs": []
    },
    {
      "cell_type": "code",
      "source": [
        "import matplotlib.pyplot as plt\n"
      ],
      "metadata": {
        "id": "HDiXvGfLJHel"
      },
      "execution_count": 7,
      "outputs": []
    },
    {
      "cell_type": "code",
      "source": [
        "import pandas as pd"
      ],
      "metadata": {
        "id": "_hyaf-XOX1i_"
      },
      "execution_count": 8,
      "outputs": []
    },
    {
      "cell_type": "markdown",
      "source": [
        "**QUESTION 1**<br>\n",
        "How many multiplications and additions do you need to perform a matrix multiplication between a (n, k) and (k, m) matrix? Explain.\n",
        "<br><br>\n",
        "**ANSWER**<br>\n",
        "Matrix one size= n X k <br>\n",
        "Matrix two size= k X m <br>\n",
        "Final Matrix shape= n X m <br>\n",
        "For each element in the final matrix we will multiply one row of Matrix 1 with one column of Matrix 2 element wise and then add them<br><br>\n",
        "Number of multiplications for one element of final matrix =k ------------- eq 1<br>\n",
        "Number of additions for one element of final matrix =k-1 ------------------eq 2<br><br>\n",
        "\n",
        "So for total additions in final array= number of elements* additions in one array<br>\n",
        "Total number of additions= n*m*(k-1)<br><br>\n",
        "\n",
        "So for total multiplications in final array= number of elements* multiplication in one array<br>\n",
        "Total number of multiplications= n*m*(k)<br>\n",
        "\n"
      ],
      "metadata": {
        "id": "__2uK5OI83Mu"
      }
    },
    {
      "cell_type": "markdown",
      "source": [
        "**Question 2**<br>\n",
        "Write Python code to multiply the above two matrices. Solve using list of lists and then use numpy. Compare the timing of both solutions. Which one is faster? Why?\n",
        "\n"
      ],
      "metadata": {
        "id": "0k2mAVoNC7CQ"
      }
    },
    {
      "cell_type": "markdown",
      "source": [
        "**PART 1**<br>\n",
        "With simple python lists"
      ],
      "metadata": {
        "id": "sy2A1QzCHPVG"
      }
    },
    {
      "cell_type": "code",
      "source": [
        "\n",
        "def matrix_generator(n,k,m):\n",
        "  # n=5\n",
        "  # k=3\n",
        "  # m=2\n",
        "  matrix1=[]\n",
        "  matrix2=[]\n",
        "  for i in range(n):\n",
        "    arr=[]\n",
        "    for j in range(k):\n",
        "      arr.append(1)\n",
        "    matrix1.append(arr)\n",
        "\n",
        "  for i in range(k):\n",
        "    arr=[]\n",
        "    for j in range(m):\n",
        "      arr.append(1)\n",
        "    matrix2.append(arr)\n",
        "  return matrix1,matrix2"
      ],
      "metadata": {
        "id": "14YUD-KlCouH"
      },
      "execution_count": null,
      "outputs": []
    },
    {
      "cell_type": "code",
      "source": [
        "def matrix_multiply(matrix1,matrix2):\n",
        "\n",
        "  n_=len(matrix1)\n",
        "  k_=len(matrix1[0])\n",
        "  m_=len(matrix2[0])\n",
        "  final_arr=[]\n",
        "\n",
        "  for i in range(n_):\n",
        "    arr=[]\n",
        "    for j in range(m_):\n",
        "      value=0\n",
        "      for k in range(k_):\n",
        "        value+=matrix1[i][k]*matrix2[k][j]\n",
        "      arr.append(value)\n",
        "    final_arr.append(arr)\n",
        "\n",
        "  return final_arr"
      ],
      "metadata": {
        "id": "8ltDVC5NDmh3"
      },
      "execution_count": null,
      "outputs": []
    },
    {
      "cell_type": "code",
      "source": [
        "mat1,mat2=matrix_generator(5,3,2)\n",
        "\n",
        "matrix_multiply(mat1,mat2)\n"
      ],
      "metadata": {
        "colab": {
          "base_uri": "https://localhost:8080/"
        },
        "id": "N2gMVCyfK-xy",
        "outputId": "bb68085e-a445-42ce-d66f-999b9de1c7e1"
      },
      "execution_count": null,
      "outputs": [
        {
          "output_type": "execute_result",
          "data": {
            "text/plain": [
              "[[3, 3], [3, 3], [3, 3], [3, 3], [3, 3]]"
            ]
          },
          "metadata": {},
          "execution_count": 46
        }
      ]
    },
    {
      "cell_type": "code",
      "source": [
        "n_array=[2,5,30,100]\n",
        "m_array=[2,5,30,100]\n",
        "k_array=[2,5,30,100]\n",
        "time_array=[]\n",
        "for run in range(5):\n",
        "  for n in n_array:\n",
        "    for m in m_array:\n",
        "      for k in k_array:\n",
        "        matrix1,matrix2=matrix_generator(n,m,k)\n",
        "        t1=time.time()\n",
        "        final_matrix=matrix_multiply(matrix1,matrix2)\n",
        "        t2=time.time()\n",
        "        time_array.append(t2-t1)\n",
        "\n",
        "\n",
        "\n"
      ],
      "metadata": {
        "id": "5s98epogCHxY"
      },
      "execution_count": null,
      "outputs": []
    },
    {
      "cell_type": "code",
      "source": [
        "avg=statistics.mean(time_array)\n",
        "std_=statistics.stdev(time_array)\n",
        "print(\"Average  :\",avg)\n",
        "print(\"Std   :\",std_)"
      ],
      "metadata": {
        "colab": {
          "base_uri": "https://localhost:8080/"
        },
        "id": "EoIAxSIRCH2w",
        "outputId": "3959a04e-5604-4710-9939-47849689411f"
      },
      "execution_count": null,
      "outputs": [
        {
          "output_type": "stream",
          "name": "stdout",
          "text": [
            "Average  : 0.006473752856254578\n",
            "Std   : 0.02155536533988385\n"
          ]
        }
      ]
    },
    {
      "cell_type": "markdown",
      "source": [
        "**Numpy Question 2**"
      ],
      "metadata": {
        "id": "DPOa2oobOw_q"
      }
    },
    {
      "cell_type": "code",
      "source": [
        "n_array=[2,5,30,100]\n",
        "m_array=[2,5,30,100]\n",
        "k_array=[2,5,30,100]\n",
        "time_array_numpy=[]\n",
        "for run in range(1000):\n",
        "  for n in n_array:\n",
        "    for m in m_array:\n",
        "      for k in k_array:\n",
        "        matrix1,matrix2=matrix_generator(n,m,k)\n",
        "        t1=time.time()\n",
        "        final_matrix=np.matmul(np.array(matrix1),np.array(matrix2))\n",
        "        t2=time.time()\n",
        "        time_array_numpy.append(t2-t1)\n"
      ],
      "metadata": {
        "id": "_PyKNmINCH9M"
      },
      "execution_count": null,
      "outputs": []
    },
    {
      "cell_type": "code",
      "source": [
        "avg_numpy=statistics.mean(time_array_numpy)\n",
        "std_numpy=statistics.stdev(time_array_numpy)\n",
        "print(\"Average Numpy :\",avg_numpy)\n",
        "print(\"Std  Numpy :\",std_numpy)"
      ],
      "metadata": {
        "colab": {
          "base_uri": "https://localhost:8080/"
        },
        "id": "JeIN0xBECH_O",
        "outputId": "21acdff4-6063-4967-857d-d76c963f60b4"
      },
      "execution_count": null,
      "outputs": [
        {
          "output_type": "stream",
          "name": "stdout",
          "text": [
            "Average Numpy : 0.00028036013245582583\n",
            "Std  Numpy : 0.0005002221103717588\n"
          ]
        }
      ]
    },
    {
      "cell_type": "markdown",
      "source": [
        "**Time for normal list**<br>\n",
        "Average  : 0.006473752856254578<br>\n",
        "Std   : 0.02155536533988385<br>\n",
        "\n",
        "**Time by using numpy**<br>\n",
        "Average Numpy : 0.0.00028036013245582583<br>\n",
        "Std  Numpy : 0.0.0005002221103717588<br>"
      ],
      "metadata": {
        "id": "xUglVeNZQnJV"
      }
    },
    {
      "cell_type": "markdown",
      "source": [
        "**Reason why numpy is faster is beacuse in numpy the array values are stored continously in memory whereas this is not the case for normal python list. Numpy also does operations parallelly**\n",
        " "
      ],
      "metadata": {
        "id": "fMxDHmbmRYc4"
      }
    },
    {
      "cell_type": "markdown",
      "source": [
        "**Question 3**<br>\n",
        "Finding the highest element in a list requires one pass of the array. Finding the second highest element requires 2 passes of the the array. Using this method, what is the time complexity of finding the median of the array? Can you suggest a better method? Can you implement both these methods in Python and compare against numpy.median routine in terms of time?\n",
        "\n",
        "\n"
      ],
      "metadata": {
        "id": "5TVbEIVXUII5"
      }
    },
    {
      "cell_type": "markdown",
      "source": [
        "**Time Complexity**<br>\n",
        "The time complexity would be O(n**2)<br>\n",
        "A better method would be sorting the array and directly finding the median based on the size  of array<br>\n",
        "Then time complexity would become O(nlog(n)) [Time complexty of only sorting] \n",
        "\n"
      ],
      "metadata": {
        "id": "3Y8H7I1VVxTV"
      }
    },
    {
      "cell_type": "markdown",
      "source": [
        "**Below we have written python median finder for the method described in the question withut sorting**"
      ],
      "metadata": {
        "id": "H66grsRIq8cC"
      }
    },
    {
      "cell_type": "code",
      "source": [
        "def median_finder(array_):\n",
        "  \n",
        "  arr_length=len(array_)\n",
        "  if(arr_length%2==0):\n",
        "    half=arr_length//2\n",
        "    \n",
        "    for i in range(half+1):##iterating till we find both elements\n",
        "      max=array_[i]\n",
        "      max_index=i\n",
        "      for j in range(i,arr_length):#find the index where we have a max\n",
        "        if(max<array_[j]):\n",
        "          max=array_[j]\n",
        "          max_index=j\n",
        "      temp=array_[max_index]\n",
        "      array_[max_index]=array_[i]\n",
        "      array_[i]=temp\n",
        "\n",
        "    median=(array_[half-1]+array_[half])/2## finding the median\n",
        "  else:\n",
        "    half=arr_length//2\n",
        "    for i in range(half+1):##to find the median\n",
        "      max=array_[i]\n",
        "      max_index=i\n",
        "      for j in range(i,arr_length):#find the index where we have a max\n",
        "        if(max<array_[j]):\n",
        "          max=array_[j]\n",
        "          max_index=j\n",
        "      temp=array_[max_index]\n",
        "      array_[max_index]=array_[i]\n",
        "      array_[i]=temp\n",
        "\n",
        "    median=array_[half]## finding the median\n",
        "  return median"
      ],
      "metadata": {
        "id": "z_BaNy7eCICQ"
      },
      "execution_count": null,
      "outputs": []
    },
    {
      "cell_type": "code",
      "source": [
        "#array_=[1, 2, 3, 4, 5, 6]\n",
        "array_=[1, 2, 3, 4, 5]\n",
        "median_finder(array_)"
      ],
      "metadata": {
        "colab": {
          "base_uri": "https://localhost:8080/"
        },
        "id": "IPWnpfdrmfJq",
        "outputId": "c73f6a97-0bd4-488a-8cf2-9f2645795542"
      },
      "execution_count": null,
      "outputs": [
        {
          "output_type": "execute_result",
          "data": {
            "text/plain": [
              "3"
            ]
          },
          "metadata": {},
          "execution_count": 19
        }
      ]
    },
    {
      "cell_type": "markdown",
      "source": [
        "**Below is the impplementation of the sorted median finder**(the python sort is of O(NlogN)"
      ],
      "metadata": {
        "id": "sGPgYYsqrRYA"
      }
    },
    {
      "cell_type": "code",
      "source": [
        "def sorting_median_finder(array_):\n",
        "  \n",
        "  arr_length=len(array_)\n",
        "  array_.sort()\n",
        "  if(arr_length%2==0):\n",
        "    half=arr_length//2\n",
        "    median=(array_[half-1]+array_[half])/2\n",
        "  else:\n",
        "    half=arr_length//2\n",
        "    median=array_[half]\n",
        "    \n",
        "  return median"
      ],
      "metadata": {
        "id": "UzGpsh_5qmll"
      },
      "execution_count": null,
      "outputs": []
    },
    {
      "cell_type": "code",
      "source": [
        "array_=[1, 2, 3, 4, 5, 6]\n",
        "#array_=[1, 2, 3, 4, 5]\n",
        "sorting_median_finder(array_)"
      ],
      "metadata": {
        "colab": {
          "base_uri": "https://localhost:8080/"
        },
        "id": "JF429vWvsGg4",
        "outputId": "ce23bb47-8a9c-4a14-a943-c08cbc42b357"
      },
      "execution_count": null,
      "outputs": [
        {
          "output_type": "execute_result",
          "data": {
            "text/plain": [
              "3.5"
            ]
          },
          "metadata": {},
          "execution_count": 25
        }
      ]
    },
    {
      "cell_type": "code",
      "source": [
        "time_normal=[]\n",
        "time_sorted=[]\n",
        "time_numpy=[]\n",
        "\n",
        "sizes=[5,10,100,1000]\n",
        "\n",
        "for run in range(10):\n",
        "  for i in range(len(sizes)):\n",
        "    array = np.random.randint(10, size=(sizes[i]))\n",
        "    t1=time.time()## finding time for normal method\n",
        "    median_normal=median_finder(array)\n",
        "    t2=time.time()\n",
        "    time_normal.append(t2-t1)\n",
        "\n",
        "    t1=time.time()##finding time for sortign method\n",
        "    median_normal=sorting_median_finder(array)\n",
        "    t2=time.time()\n",
        "    time_sorted.append(t2-t1)\n",
        "\n",
        "    t1=time.time()##time for numpy\n",
        "    median_numpy=np.median(array)\n",
        "    t2=time.time()\n",
        "    time_numpy.append(t2-t1)\n",
        "\n",
        "\n"
      ],
      "metadata": {
        "id": "MRQcUsQNrFP5"
      },
      "execution_count": null,
      "outputs": []
    },
    {
      "cell_type": "code",
      "source": [
        "print(\"Average time for normal median finding\", statistics.mean(time_normal))\n",
        "print(\"Average time for sorted median finding\", statistics.mean(time_sorted))\n",
        "print(\"Average time for numpy median finding\", statistics.mean(time_numpy))"
      ],
      "metadata": {
        "colab": {
          "base_uri": "https://localhost:8080/"
        },
        "id": "faJUBQOgrFSo",
        "outputId": "bf3adf40-98df-4477-ca3a-07bc56ab767b"
      },
      "execution_count": null,
      "outputs": [
        {
          "output_type": "stream",
          "name": "stdout",
          "text": [
            "Average time for normal median finding 0.014049416780471802\n",
            "Average time for sorted median finding 2.7489662170410156e-05\n",
            "Average time for numpy median finding 8.449554443359374e-05\n"
          ]
        }
      ]
    },
    {
      "cell_type": "markdown",
      "source": [
        "Average time for normal median finding 0.014049416780471802 secs<br>\n",
        "Average time for sorted median finding 2.7489662170410156e-05 secs<br>\n",
        "Average time for numpy median finding 8.449554443359374e-05 secs<br>"
      ],
      "metadata": {
        "id": "-srdfPjBxKoL"
      }
    },
    {
      "cell_type": "markdown",
      "source": [
        "Question 4:What is the gradient of the following function with respect to x and y?<br>\n",
        "\n",
        "$f(x,y)= x^2y + y^3sin(x)$ <br><br>\n",
        "**Answer**<br>\n",
        "$df/dx=2xy + y^3cos(x)$<br>\n",
        "$df/dy=x^2 + 3y^2sin(x)$<br>"
      ],
      "metadata": {
        "id": "IpK_PTS_xV0z"
      }
    },
    {
      "cell_type": "code",
      "source": [
        "def d_dx(x,y):\n",
        "  return (2*x*y)+(y**3)*np.cos(x)\n",
        "\n",
        "\n",
        "def d_dy(x,y):\n",
        "  return (x**2) + (3*(y**2))*np.sin(x)"
      ],
      "metadata": {
        "id": "06SD2b9-99J2"
      },
      "execution_count": null,
      "outputs": []
    },
    {
      "cell_type": "markdown",
      "source": [
        "**Q-5 Use JAX to confirm the gradient evaluated by your method matches the analytical solution corresponding to a few random values of x and y**\n",
        "\n"
      ],
      "metadata": {
        "id": "YC67-Edz1A0S"
      }
    },
    {
      "cell_type": "code",
      "source": [
        "def function_f(x,y):\n",
        "  return ((x**2)*(y))+(y**3)*jax.numpy.sin(x)"
      ],
      "metadata": {
        "id": "p9KtoaDxxJsM"
      },
      "execution_count": null,
      "outputs": []
    },
    {
      "cell_type": "code",
      "source": [
        "dfdx=d_dx(2,3)\n",
        "dfdy=d_dy(2,3)\n",
        "grad_jax_dx=jax.grad(function_f,argnums=0)\n",
        "grad_jax_dy=jax.grad(function_f,argnums=1)\n"
      ],
      "metadata": {
        "id": "bx6renb2vN44"
      },
      "execution_count": null,
      "outputs": []
    },
    {
      "cell_type": "code",
      "source": [
        "print(\"df/dx self function:\",dfdx, \" df/dx for jax: \",grad_jax_dx(2.0,3.0))"
      ],
      "metadata": {
        "colab": {
          "base_uri": "https://localhost:8080/"
        },
        "id": "e8qUlmIf-zrL",
        "outputId": "d91f1fef-4fe4-45b2-8a59-9f41a170fe21"
      },
      "execution_count": null,
      "outputs": [
        {
          "output_type": "stream",
          "name": "stdout",
          "text": [
            "df/dx self function: 0.7640354132271554  df/dx for jax:  0.7640352\n"
          ]
        }
      ]
    },
    {
      "cell_type": "code",
      "source": [
        "print(\"df/dy self function:\",dfdy, \" df/dy for jax: \",grad_jax_dy(2.0,3.0))"
      ],
      "metadata": {
        "colab": {
          "base_uri": "https://localhost:8080/"
        },
        "id": "a5xakPtr-zzB",
        "outputId": "2c4763e2-aadc-4579-a9e8-c442bd289552"
      },
      "execution_count": null,
      "outputs": [
        {
          "output_type": "stream",
          "name": "stdout",
          "text": [
            "df/dy self function: 28.551030524293406  df/dy for jax:  28.55103\n"
          ]
        }
      ]
    },
    {
      "cell_type": "markdown",
      "source": [
        "**Q6- Use sympy to confirm that you obtain the same gradient analytically.**"
      ],
      "metadata": {
        "id": "cjnYR0nIDN_Z"
      }
    },
    {
      "cell_type": "code",
      "source": [
        "x, y = symbols('x y')\n",
        "expression=((x**2)*(y))+((y**3)*(sin(x)))"
      ],
      "metadata": {
        "id": "pm5YZyH6-z6S"
      },
      "execution_count": null,
      "outputs": []
    },
    {
      "cell_type": "code",
      "source": [
        "diff_x=Derivative(expression, x)  \n",
        "diff_y=Derivative(expression, y)  "
      ],
      "metadata": {
        "id": "UUJQqfwDExUh"
      },
      "execution_count": null,
      "outputs": []
    },
    {
      "cell_type": "code",
      "source": [
        "print(\"Derivative of expression with respect to x : {}\".format(diff_x.doit()))  \n",
        "print(\"Derivative of expression with respect to y : {}\".format(diff_y.doit()))  "
      ],
      "metadata": {
        "colab": {
          "base_uri": "https://localhost:8080/"
        },
        "id": "5uqH12QCFA5x",
        "outputId": "73240e0a-f293-4afa-f731-d572394263c2"
      },
      "execution_count": null,
      "outputs": [
        {
          "output_type": "stream",
          "name": "stdout",
          "text": [
            "Derivative of expression with respect to x : 2*x*y + y**3*cos(x)\n",
            "Derivative of expression with respect to y : x**2 + 3*y**2*sin(x)\n"
          ]
        }
      ]
    },
    {
      "cell_type": "markdown",
      "source": [
        "**Q9- Using matplotlib plot the following functions on the domain: x = 0.5 to 100.0 in steps of 0.5.**"
      ],
      "metadata": {
        "id": "w4xOY18zGsJ2"
      }
    },
    {
      "cell_type": "code",
      "source": [
        "array_domain=np.arange(0.5,100,0.5)"
      ],
      "metadata": {
        "id": "VB_zVh6bFfWh"
      },
      "execution_count": null,
      "outputs": []
    },
    {
      "cell_type": "code",
      "source": [
        "plt.plot(array_domain,array_domain)\n",
        "plt.title(\"y=x\")\n",
        "plt.show()"
      ],
      "metadata": {
        "colab": {
          "base_uri": "https://localhost:8080/",
          "height": 281
        },
        "id": "x4eHIhhOIpf4",
        "outputId": "162c3957-03ba-402b-e2b7-8b916d06f55c"
      },
      "execution_count": null,
      "outputs": [
        {
          "output_type": "display_data",
          "data": {
            "text/plain": [
              "<Figure size 432x288 with 1 Axes>"
            ],
            "image/png": "[encoded data removed]"
          },
          "metadata": {
            "needs_background": "light"
          }
        }
      ]
    },
    {
      "cell_type": "code",
      "source": [
        "plt.plot(array_domain,np.square(array_domain))\n",
        "plt.title(\"y=x2\")\n",
        "plt.show()"
      ],
      "metadata": {
        "colab": {
          "base_uri": "https://localhost:8080/",
          "height": 281
        },
        "id": "CLujbVwVJKIv",
        "outputId": "1e36049d-bff9-4ba3-c274-507737418eec"
      },
      "execution_count": null,
      "outputs": [
        {
          "output_type": "display_data",
          "data": {
            "text/plain": [
              "<Figure size 432x288 with 1 Axes>"
            ],
            "image/png": "[encoded data removed]"
          },
          "metadata": {
            "needs_background": "light"
          }
        }
      ]
    },
    {
      "cell_type": "code",
      "source": [
        "plt.plot(array_domain,(array_domain**3)/100)\n",
        "plt.title(\"y=x^3/100\")\n",
        "plt.show()"
      ],
      "metadata": {
        "colab": {
          "base_uri": "https://localhost:8080/",
          "height": 281
        },
        "id": "mKPCD8DmKF49",
        "outputId": "37098cc9-4991-4ad7-8c10-f85eabb634f0"
      },
      "execution_count": null,
      "outputs": [
        {
          "output_type": "display_data",
          "data": {
            "text/plain": [
              "<Figure size 432x288 with 1 Axes>"
            ],
            "image/png": "[encoded data removed]"
          },
          "metadata": {
            "needs_background": "light"
          }
        }
      ]
    },
    {
      "cell_type": "code",
      "source": [
        "plt.plot(array_domain,np.sin(array_domain))\n",
        "plt.title(\"y=sin(x)\")\n",
        "plt.show()"
      ],
      "metadata": {
        "colab": {
          "base_uri": "https://localhost:8080/",
          "height": 281
        },
        "id": "7bEUjy6KKZ0C",
        "outputId": "7603d61b-e6ba-44be-96ff-5bd6e0512228"
      },
      "execution_count": null,
      "outputs": [
        {
          "output_type": "display_data",
          "data": {
            "text/plain": [
              "<Figure size 432x288 with 1 Axes>"
            ],
            "image/png": "[encoded data removed]"
          },
          "metadata": {
            "needs_background": "light"
          }
        }
      ]
    },
    {
      "cell_type": "code",
      "source": [
        "plt.plot(array_domain,np.sin(array_domain)/array_domain)\n",
        "plt.title(\"y=sin(x)/x\")\n",
        "plt.show()"
      ],
      "metadata": {
        "colab": {
          "base_uri": "https://localhost:8080/",
          "height": 281
        },
        "id": "q0_DpozHKh7r",
        "outputId": "067559c9-17bb-4a0b-b203-9fe9c27c41fb"
      },
      "execution_count": null,
      "outputs": [
        {
          "output_type": "display_data",
          "data": {
            "text/plain": [
              "<Figure size 432x288 with 1 Axes>"
            ],
            "image/png": "[encoded data removed]"
          },
          "metadata": {
            "needs_background": "light"
          }
        }
      ]
    },
    {
      "cell_type": "code",
      "source": [
        "plt.plot(array_domain,np.log(array_domain))\n",
        "plt.title(\"y=log(x)\")\n",
        "plt.show()"
      ],
      "metadata": {
        "colab": {
          "base_uri": "https://localhost:8080/",
          "height": 281
        },
        "id": "urFgiyswLAcg",
        "outputId": "1a62d499-dc62-46c2-e0d3-4a3d7bad606b"
      },
      "execution_count": null,
      "outputs": [
        {
          "output_type": "display_data",
          "data": {
            "text/plain": [
              "<Figure size 432x288 with 1 Axes>"
            ],
            "image/png": "[encoded data removed]"
          },
          "metadata": {
            "needs_background": "light"
          }
        }
      ]
    },
    {
      "cell_type": "code",
      "source": [
        "plt.plot(array_domain,np.exp(array_domain))\n",
        "plt.title(\"y=e^x\")\n",
        "plt.show()"
      ],
      "metadata": {
        "colab": {
          "base_uri": "https://localhost:8080/",
          "height": 281
        },
        "id": "WBmA1y_WLMBa",
        "outputId": "01bf4da7-e252-41ab-cbe3-f3dc22c08ffa"
      },
      "execution_count": null,
      "outputs": [
        {
          "output_type": "display_data",
          "data": {
            "text/plain": [
              "<Figure size 432x288 with 1 Axes>"
            ],
            "image/png": "[encoded data removed]"
          },
          "metadata": {
            "needs_background": "light"
          }
        }
      ]
    },
    {
      "cell_type": "markdown",
      "source": [
        "**Question -10: Using numpy generate a matrix of size 20X5 containing random numbers drawn uniformly from .............**"
      ],
      "metadata": {
        "id": "6JKkqAGBWQtv"
      }
    },
    {
      "cell_type": "code",
      "source": [
        "np.random.seed(42)"
      ],
      "metadata": {
        "id": "UOWApTaUdLy6"
      },
      "execution_count": 9,
      "outputs": []
    },
    {
      "cell_type": "code",
      "source": [
        "numpy_matrix=np.random.uniform(low=1,high=2,size=(20,5))"
      ],
      "metadata": {
        "id": "mvDSvUKPLlc3"
      },
      "execution_count": 10,
      "outputs": []
    },
    {
      "cell_type": "code",
      "source": [
        "dict_df={'a':numpy_matrix[:,0],'b':numpy_matrix[:,1],'c':numpy_matrix[:,2],'d':numpy_matrix[:,3],'e':numpy_matrix[:,4]}"
      ],
      "metadata": {
        "id": "wKGj-LMsWlod"
      },
      "execution_count": 11,
      "outputs": []
    },
    {
      "cell_type": "code",
      "source": [
        "df=pd.DataFrame(dict_df)\n"
      ],
      "metadata": {
        "id": "L2yFt6uJXwCd"
      },
      "execution_count": 12,
      "outputs": []
    },
    {
      "cell_type": "code",
      "source": [
        "array_means=[df['a'].mean(),df['b'].mean(),df['c'].mean(),df['d'].mean(),df['e'].mean()]\n",
        "array_std=[df['a'].std(),df['b'].std(),df['c'].std(),df['d'].std(),df['e'].std()]\n",
        "print(array_means)\n",
        "print(array_std)"
      ],
      "metadata": {
        "colab": {
          "base_uri": "https://localhost:8080/"
        },
        "id": "_h6DbfLBaljn",
        "outputId": "a00ac7a2-71c2-4bff-b8d7-8be37981a2af"
      },
      "execution_count": 13,
      "outputs": [
        {
          "output_type": "stream",
          "name": "stdout",
          "text": [
            "[1.522890799092147, 1.4369455033861906, 1.4740846561091414, 1.4987368233245257, 1.418245934979042]\n",
            "[0.2964588113484114, 0.2977939627660935, 0.31862833120007994, 0.30711297309552393, 0.28446258750014697]\n"
          ]
        }
      ]
    },
    {
      "cell_type": "markdown",
      "source": [
        "Column 'e' has the highest mean and column 'c' has highest standard deviation"
      ],
      "metadata": {
        "id": "CJDoh5PXdqKT"
      }
    },
    {
      "cell_type": "markdown",
      "source": [
        "**Question -11 Add a new column to the dataframe called “f” which is..........**\n"
      ],
      "metadata": {
        "id": "eu4RpYBPeeDw"
      }
    },
    {
      "cell_type": "code",
      "source": [
        "df['f']=df['a']+df['b']+df['c']+df['d']+df['e']\n",
        "df['g']=df['f'].apply(lambda x: \"GT8\" if x > 8 else \"LT8\")"
      ],
      "metadata": {
        "id": "JIjDSnCdall8"
      },
      "execution_count": 14,
      "outputs": []
    },
    {
      "cell_type": "code",
      "source": [
        "print(df)"
      ],
      "metadata": {
        "colab": {
          "base_uri": "https://localhost:8080/"
        },
        "id": "x4ndlKZchNja",
        "outputId": "21f5be88-7266-420a-8645-93c18b00e556"
      },
      "execution_count": 15,
      "outputs": [
        {
          "output_type": "stream",
          "name": "stdout",
          "text": [
            "           a         b         c         d         e         f    g\n",
            "0   1.374540  1.950714  1.731994  1.598658  1.156019  7.811925  LT8\n",
            "1   1.155995  1.058084  1.866176  1.601115  1.708073  7.389442  LT8\n",
            "2   1.020584  1.969910  1.832443  1.212339  1.181825  7.217101  LT8\n",
            "3   1.183405  1.304242  1.524756  1.431945  1.291229  6.735577  LT8\n",
            "4   1.611853  1.139494  1.292145  1.366362  1.456070  6.865923  LT8\n",
            "5   1.785176  1.199674  1.514234  1.592415  1.046450  7.137949  LT8\n",
            "6   1.607545  1.170524  1.065052  1.948886  1.965632  7.757638  LT8\n",
            "7   1.808397  1.304614  1.097672  1.684233  1.440152  7.335069  LT8\n",
            "8   1.122038  1.495177  1.034389  1.909320  1.258780  6.819704  LT8\n",
            "9   1.662522  1.311711  1.520068  1.546710  1.184854  7.225866  LT8\n",
            "10  1.969585  1.775133  1.939499  1.894827  1.597900  9.176944  GT8\n",
            "11  1.921874  1.088493  1.195983  1.045227  1.325330  6.576907  LT8\n",
            "12  1.388677  1.271349  1.828738  1.356753  1.280935  7.126452  LT8\n",
            "13  1.542696  1.140924  1.802197  1.074551  1.986887  7.547255  LT8\n",
            "14  1.772245  1.198716  1.005522  1.815461  1.706857  7.498801  LT8\n",
            "15  1.729007  1.771270  1.074045  1.358466  1.115869  7.048657  LT8\n",
            "16  1.863103  1.623298  1.330898  1.063558  1.310982  7.191840  LT8\n",
            "17  1.325183  1.729606  1.637557  1.887213  1.472215  8.051775  GT8\n",
            "18  1.119594  1.713245  1.760785  1.561277  1.770967  7.925868  LT8\n",
            "19  1.493796  1.522733  1.427541  1.025419  1.107891  6.577380  LT8\n"
          ]
        }
      ]
    },
    {
      "cell_type": "code",
      "source": [
        "df_gt=df[df['g']==\"GT8\"]\n",
        "df_lt=df[df['g']==\"LT8\"]\n"
      ],
      "metadata": {
        "id": "mhYZrkbgalqb"
      },
      "execution_count": 16,
      "outputs": []
    },
    {
      "cell_type": "code",
      "source": [
        "print(df_gt)"
      ],
      "metadata": {
        "colab": {
          "base_uri": "https://localhost:8080/"
        },
        "id": "54w6H9NMals5",
        "outputId": "55563484-3f31-4038-cced-bc390f40c212"
      },
      "execution_count": 17,
      "outputs": [
        {
          "output_type": "stream",
          "name": "stdout",
          "text": [
            "           a         b         c         d         e         f    g\n",
            "10  1.969585  1.775133  1.939499  1.894827  1.597900  9.176944  GT8\n",
            "17  1.325183  1.729606  1.637557  1.887213  1.472215  8.051775  GT8\n"
          ]
        }
      ]
    },
    {
      "cell_type": "code",
      "source": [
        "print(df_lt)"
      ],
      "metadata": {
        "colab": {
          "base_uri": "https://localhost:8080/"
        },
        "id": "Np2G_3sbalvn",
        "outputId": "71275685-f766-470d-9592-a64afaa87c45"
      },
      "execution_count": 18,
      "outputs": [
        {
          "output_type": "stream",
          "name": "stdout",
          "text": [
            "           a         b         c         d         e         f    g\n",
            "0   1.374540  1.950714  1.731994  1.598658  1.156019  7.811925  LT8\n",
            "1   1.155995  1.058084  1.866176  1.601115  1.708073  7.389442  LT8\n",
            "2   1.020584  1.969910  1.832443  1.212339  1.181825  7.217101  LT8\n",
            "3   1.183405  1.304242  1.524756  1.431945  1.291229  6.735577  LT8\n",
            "4   1.611853  1.139494  1.292145  1.366362  1.456070  6.865923  LT8\n",
            "5   1.785176  1.199674  1.514234  1.592415  1.046450  7.137949  LT8\n",
            "6   1.607545  1.170524  1.065052  1.948886  1.965632  7.757638  LT8\n",
            "7   1.808397  1.304614  1.097672  1.684233  1.440152  7.335069  LT8\n",
            "8   1.122038  1.495177  1.034389  1.909320  1.258780  6.819704  LT8\n",
            "9   1.662522  1.311711  1.520068  1.546710  1.184854  7.225866  LT8\n",
            "11  1.921874  1.088493  1.195983  1.045227  1.325330  6.576907  LT8\n",
            "12  1.388677  1.271349  1.828738  1.356753  1.280935  7.126452  LT8\n",
            "13  1.542696  1.140924  1.802197  1.074551  1.986887  7.547255  LT8\n",
            "14  1.772245  1.198716  1.005522  1.815461  1.706857  7.498801  LT8\n",
            "15  1.729007  1.771270  1.074045  1.358466  1.115869  7.048657  LT8\n",
            "16  1.863103  1.623298  1.330898  1.063558  1.310982  7.191840  LT8\n",
            "18  1.119594  1.713245  1.760785  1.561277  1.770967  7.925868  LT8\n",
            "19  1.493796  1.522733  1.427541  1.025419  1.107891  6.577380  LT8\n"
          ]
        }
      ]
    },
    {
      "cell_type": "code",
      "source": [
        "print(\"Number of rows in LT8  :\",len(df_lt))"
      ],
      "metadata": {
        "colab": {
          "base_uri": "https://localhost:8080/"
        },
        "id": "JnmAhpI5fTys",
        "outputId": "7c48f96c-dea9-4037-8beb-477c0e28e49c"
      },
      "execution_count": 19,
      "outputs": [
        {
          "output_type": "stream",
          "name": "stdout",
          "text": [
            "Number of rows in LT8  : 18\n"
          ]
        }
      ]
    },
    {
      "cell_type": "code",
      "source": [
        "## NUMBER OF ROWS \n",
        "print(\"GT8  number of rows\",len(df_gt), \"With the std of f column :\",df_gt['f'].std())\n",
        "print(\"LT8 number of rows\",len(df_lt), \"With the std of f column :\",df_lt['f'].std())"
      ],
      "metadata": {
        "colab": {
          "base_uri": "https://localhost:8080/"
        },
        "id": "v3Ti1YSOalyb",
        "outputId": "3e4a15e3-fbbb-4214-defe-3690b1da1871"
      },
      "execution_count": 20,
      "outputs": [
        {
          "output_type": "stream",
          "name": "stdout",
          "text": [
            "GT8  number of rows 2 With the std of f column : 0.7956146881961926\n",
            "LT8 number of rows 18 With the std of f column : 0.4025886500663061\n"
          ]
        }
      ]
    },
    {
      "cell_type": "markdown",
      "source": [
        "**Q- 12 :  Write a small piece of code to explain broadcasting in numpy.**\n",
        "\n"
      ],
      "metadata": {
        "id": "rmzWaRkFlA4t"
      }
    },
    {
      "cell_type": "code",
      "source": [
        "# numpy array broadcasting is how numpy handles operations on arrays of different sizes\n",
        "##With examples\n",
        "## we can perform operations  them if amongst the dimension which does not match is 1\n",
        "#example of multiplication and addition/\\\n",
        "mat1=np.random.randint(10,size=(3,4,1))\n",
        "mat2=np.random.randint(10,size=(4,5))\n",
        "fin=mat1+mat2\n",
        "fin2=mat1*mat2\n",
        "print(fin.shape)\n",
        "print(fin2.shape)"
      ],
      "metadata": {
        "colab": {
          "base_uri": "https://localhost:8080/"
        },
        "id": "Hrr-CNGchizW",
        "outputId": "f3f0e362-c81d-4ef9-eb6b-37d88d6d4bae"
      },
      "execution_count": 21,
      "outputs": [
        {
          "output_type": "stream",
          "name": "stdout",
          "text": [
            "(3, 4, 5)\n",
            "(3, 4, 5)\n"
          ]
        }
      ]
    },
    {
      "cell_type": "code",
      "source": [
        "## we can perform operations them if they have same shape\n",
        "##example multiplication\n",
        "mat1=np.random.randint(10,size=(3,4,10))\n",
        "mat2=np.random.randint(10,size=(3,4,10))\n",
        "fin3=mat1*mat2\n",
        "print(fin3.shape)"
      ],
      "metadata": {
        "colab": {
          "base_uri": "https://localhost:8080/"
        },
        "id": "UGtpOkR3hi2Q",
        "outputId": "fb65efdc-fa80-43f3-8b14-b4fb3f949c2a"
      },
      "execution_count": 22,
      "outputs": [
        {
          "output_type": "stream",
          "name": "stdout",
          "text": [
            "(3, 4, 10)\n"
          ]
        }
      ]
    },
    {
      "cell_type": "markdown",
      "source": [
        "**Question -13 : Write a function to compute the argmin of a numpy array. The function should take a numpy array as input and return the index of the minimum element. You can use the np.argmin function to verify your solution.**"
      ],
      "metadata": {
        "id": "JjJgG-jLruUF"
      }
    },
    {
      "cell_type": "code",
      "source": [
        "def argmin_fun(array_):\n",
        "  min_index=0\n",
        "  min=array_[0]\n",
        "  for i in range(len(array_)):\n",
        "    if(min>array_[i]):\n",
        "      min=array_[i]\n",
        "      min_index=i\n",
        "  \n",
        "  return min_index"
      ],
      "metadata": {
        "id": "Sqnogd0Xhi4f"
      },
      "execution_count": 23,
      "outputs": []
    },
    {
      "cell_type": "code",
      "source": [
        "print(\"Argmin function result :\",argmin_fun([3,42,1937,1,81,31,-45]))\n",
        "print(\"Numpy argmin :\",np.argmin([3,42,1937,1,81,31,-45]))"
      ],
      "metadata": {
        "colab": {
          "base_uri": "https://localhost:8080/"
        },
        "id": "f4XrgA-2hi7f",
        "outputId": "23396eb6-8ffa-4a45-eabb-9ed3626e3f40"
      },
      "execution_count": 24,
      "outputs": [
        {
          "output_type": "stream",
          "name": "stdout",
          "text": [
            "Argmin function result : 6\n",
            "Numpy argmin : 6\n"
          ]
        }
      ]
    },
    {
      "cell_type": "markdown",
      "source": [
        "**Question -7 : Create a Python nested dictionary to represent hierarchical information. We want to store record of students and..........**"
      ],
      "metadata": {
        "id": "oqgDasvpgT92"
      }
    },
    {
      "cell_type": "code",
      "source": [
        "big_dict={}\n",
        "for i in range(4):\n",
        "  year_dict={}\n",
        "  for j in range(2):\n",
        "    branch_dict={}\n",
        "    for k in range(2):\n",
        "      person_dict={'Roll No':(i,j,k),'Name':'Abc'}\n",
        "      marks={'Maths': 100,'English':75,'History':75}\n",
        "      person_dict['Marks']=marks\n",
        "      branch_dict[str(k)]=person_dict\n",
        "    year_dict['Branch '+str(j+1)]=branch_dict\n",
        "  big_dict[str(2022+i)]=year_dict"
      ],
      "metadata": {
        "id": "lddKoUefhjA5"
      },
      "execution_count": 25,
      "outputs": []
    },
    {
      "cell_type": "code",
      "source": [
        "big_dict['2022']['Branch 1']"
      ],
      "metadata": {
        "id": "yy8Ot42HhjD8",
        "colab": {
          "base_uri": "https://localhost:8080/"
        },
        "outputId": "43aeaf8f-883c-438b-8bc6-a6da4948594a"
      },
      "execution_count": 26,
      "outputs": [
        {
          "output_type": "execute_result",
          "data": {
            "text/plain": [
              "{'0': {'Roll No': (0, 0, 0),\n",
              "  'Name': 'Abc',\n",
              "  'Marks': {'Maths': 100, 'English': 75, 'History': 75}},\n",
              " '1': {'Roll No': (0, 0, 1),\n",
              "  'Name': 'Abc',\n",
              "  'Marks': {'Maths': 100, 'English': 75, 'History': 75}}}"
            ]
          },
          "metadata": {},
          "execution_count": 26
        }
      ]
    },
    {
      "cell_type": "markdown",
      "source": [
        "**Question 8: Store the same information using Python classes. We have an overall**"
      ],
      "metadata": {
        "id": "OJbsej1P7Do3"
      }
    },
    {
      "cell_type": "code",
      "source": [
        "class Subject():\n",
        "  def __init__(self, name,marks):\n",
        "    self.name=name\n",
        "    self.marks=marks\n",
        "  \n",
        "class Marks():\n",
        "  def __init__(self):\n",
        "    self.Mark_list=[]\n",
        "  \n",
        "class Student():\n",
        "  def __init__(self,name,roll_no,Mark_class):\n",
        "    self.name=name\n",
        "    self.roll_no=roll_no\n",
        "    self.Mark_sub=Mark_class\n",
        "  \n",
        "class Branch():\n",
        "  def __init__(self,name):\n",
        "    self.name=name\n",
        "    self.student_list=[]\n",
        "  \n",
        "class Year():\n",
        "  def __init__(self,year):\n",
        "    self.year=year\n",
        "    self.branch_list=[]\n",
        "  "
      ],
      "metadata": {
        "id": "rL1agGlQhjG7"
      },
      "execution_count": 27,
      "outputs": []
    },
    {
      "cell_type": "code",
      "source": [
        "math=Subject('maths',100)\n",
        "history=Subject(\"History\",75)\n",
        "english=Subject('English',81)\n"
      ],
      "metadata": {
        "id": "PRJS0nteXn3e"
      },
      "execution_count": 28,
      "outputs": []
    },
    {
      "cell_type": "code",
      "source": [
        "marks_=Marks()\n",
        "marks_.Mark_list=[math,history,english]"
      ],
      "metadata": {
        "id": "K8nN9c1YswPx"
      },
      "execution_count": 29,
      "outputs": []
    },
    {
      "cell_type": "code",
      "source": [
        "student1=Student('abc',56,marks_)"
      ],
      "metadata": {
        "id": "3RKjcNhZs0Mf"
      },
      "execution_count": 30,
      "outputs": []
    },
    {
      "cell_type": "code",
      "source": [
        "print(student1.Mark_sub.Mark_list[0].name)"
      ],
      "metadata": {
        "colab": {
          "base_uri": "https://localhost:8080/"
        },
        "id": "XokP9UcFs0PJ",
        "outputId": "cfafa4c4-f3fa-431a-b0d5-8c0380e98a41"
      },
      "execution_count": 31,
      "outputs": [
        {
          "output_type": "stream",
          "name": "stdout",
          "text": [
            "maths\n"
          ]
        }
      ]
    },
    {
      "cell_type": "code",
      "source": [
        "branch_1=Branch('Branch 1')\n",
        "branch_1.student_list.append(student1)"
      ],
      "metadata": {
        "id": "O7m2zMM0s0Ru"
      },
      "execution_count": 32,
      "outputs": []
    },
    {
      "cell_type": "code",
      "source": [
        "print(branch_1.name)\n",
        "print(\"Printing student name in the branch :\",branch_1.student_list[0].name)\n"
      ],
      "metadata": {
        "colab": {
          "base_uri": "https://localhost:8080/"
        },
        "id": "iOXt2xKVs0UN",
        "outputId": "006d65d6-ba7d-4944-ea47-1da1b4cdee59"
      },
      "execution_count": 33,
      "outputs": [
        {
          "output_type": "stream",
          "name": "stdout",
          "text": [
            "Branch 1\n",
            "Printing student name in the branch : abc\n"
          ]
        }
      ]
    },
    {
      "cell_type": "code",
      "source": [
        "year_2022=Year(2022)\n",
        "year_2022.branch_list.append(branch_1)\n",
        "print(year_2022.year)\n"
      ],
      "metadata": {
        "colab": {
          "base_uri": "https://localhost:8080/"
        },
        "id": "FRpEa9zKs0XE",
        "outputId": "980976a5-dd28-426d-85aa-085939529491"
      },
      "execution_count": 34,
      "outputs": [
        {
          "output_type": "stream",
          "name": "stdout",
          "text": [
            "2022\n"
          ]
        }
      ]
    },
    {
      "cell_type": "code",
      "source": [
        "branch_=year_2022.branch_list[0]\n",
        "print(\"Printing the name of the branch inside the Year:\",branch_.name)"
      ],
      "metadata": {
        "colab": {
          "base_uri": "https://localhost:8080/"
        },
        "id": "awoG0Jh4s0ZU",
        "outputId": "db711b85-9fb0-4c67-ca16-3a660546f458"
      },
      "execution_count": 35,
      "outputs": [
        {
          "output_type": "stream",
          "name": "stdout",
          "text": [
            "Printing the name of the branch inside the Year: Branch 1\n"
          ]
        }
      ]
    },
    {
      "cell_type": "code",
      "source": [],
      "metadata": {
        "id": "Y16qbg10s0fd"
      },
      "execution_count": null,
      "outputs": []
    }
  ]
}